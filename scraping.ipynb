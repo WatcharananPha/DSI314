{
 "cells": [
  {
   "cell_type": "code",
   "execution_count": 7,
   "metadata": {},
   "outputs": [
    {
     "data": {
      "text/plain": [
       "<Response [200]>"
      ]
     },
     "execution_count": 7,
     "metadata": {},
     "output_type": "execute_result"
    }
   ],
   "source": [
    "import requests\n",
    "import pandas as pd\n",
    "from bs4 import BeautifulSoup\n",
    "\n",
    "url = \"https://pathumthani.moc.go.th/th/content/category/getarticles/id/114\"\n",
    "headers = {\n",
    "    \"Accept\": \"application/json, text/javascript, */*; q=0.01\",\n",
    "    \"Accept-Encoding\": \"gzip, deflate, br\",\n",
    "    \"Accept-Language\": \"en-GB,en-US;q=0.9,en;q=0.8\",\n",
    "    \"Connection\": \"keep-alive\",\n",
    "    \"Content-Type\": \"application/x-www-form-urlencoded; charset=UTF-8\",\n",
    "    \"Host\": \"pathumthani.moc.go.th\",\n",
    "    \"Origin\": \"https://pathumthani.moc.go.th\",\n",
    "    \"Referer\": \"https://pathumthani.moc.go.th/th/content/category/index/id/114\",\n",
    "    \"Sec-Ch-Ua\": '\"Google Chrome\";v=\"129\", \"Not;A=Brand\";v=\"8\", \"Chromium\";v=\"129\"',\n",
    "    \"Sec-Ch-Ua-Mobile\": \"?0\",\n",
    "    \"Sec-Ch-Ua-Platform\": '\"Windows\"',\n",
    "    \"User-Agent\": \"Mozilla/5.0 (Windows NT 10.0; Win64; x64) AppleWebKit/537.36 (KHTML, like Gecko) Chrome/129.0.0.0 Safari/537.36\",\n",
    "    \"X-Requested-With\": \"XMLHttpRequest\"\n",
    "}\n",
    "\n",
    "articles_data = []"
   ]
  },
  {
   "cell_type": "code",
   "execution_count": 9,
   "metadata": {},
   "outputs": [
    {
     "name": "stdout",
     "output_type": "stream",
     "text": [
      "Request successful for page index: 1:\n",
      "Request successful for page index: 2:\n",
      "Request successful for page index: 3:\n"
     ]
    }
   ],
   "source": [
    "for page_index in range(1, 4):\n",
    "    data = {\n",
    "        'pageIndex': page_index \n",
    "    }\n",
    "    \n",
    "    response = requests.post(url, headers=headers, data=data)\n",
    "\n",
    "    if response.status_code == 200:\n",
    "        print(f\"Request successful for page index: {page_index}:\")\n",
    "        data = response.json()\n",
    "        html_content = data.get('html')\n",
    "        soup = BeautifulSoup(html_content, 'html.parser')\n",
    "        articles = soup.find_all('div', class_='inforow')\n",
    "        \n",
    "        for article in articles:\n",
    "            link_tag = article.find('a', href=True)\n",
    "            if link_tag:\n",
    "                link = f\"https://pathumthani.moc.go.th{link_tag['href']}\"\n",
    "            else:\n",
    "                link = None\n",
    "            \n",
    "            date_tag = article.find('div', class_='image-date')\n",
    "            if date_tag:\n",
    "                date = date_tag.get_text(strip=True)\n",
    "            else:\n",
    "                date = None\n",
    "            articles_data.append({'Link': link, 'Date': date})\n",
    "    else:\n",
    "        print(f\"Request failed for page index {page_index} with status code: {response.status_code}\")"
   ]
  },
  {
   "cell_type": "code",
   "execution_count": 11,
   "metadata": {},
   "outputs": [],
   "source": [
    "df = pd.DataFrame(articles_data)\n",
    "output_file = \"articles_data.xlsx\"\n",
    "df.to_excel(output_file, index=False)"
   ]
  }
 ],
 "metadata": {
  "kernelspec": {
   "display_name": "Python 3",
   "language": "python",
   "name": "python3"
  },
  "language_info": {
   "codemirror_mode": {
    "name": "ipython",
    "version": 3
   },
   "file_extension": ".py",
   "mimetype": "text/x-python",
   "name": "python",
   "nbconvert_exporter": "python",
   "pygments_lexer": "ipython3",
   "version": "3.12.7"
  }
 },
 "nbformat": 4,
 "nbformat_minor": 2
}
