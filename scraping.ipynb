{
 "cells": [
  {
   "cell_type": "code",
   "execution_count": 11,
   "metadata": {},
   "outputs": [
    {
     "data": {
      "text/plain": [
       "<Response [200]>"
      ]
     },
     "execution_count": 11,
     "metadata": {},
     "output_type": "execute_result"
    }
   ],
   "source": [
    "import requests\n",
    "from bs4 import BeautifulSoup\n",
    "\n",
    "url = \"https://pathumthani.moc.go.th/th/content/category/getarticles/id/114\"\n",
    "headers = {\n",
    "    \"Accept\": \"application/json, text/javascript, */*; q=0.01\",\n",
    "    \"Accept-Encoding\": \"gzip, deflate, br\",\n",
    "    \"Accept-Language\": \"en-GB,en-US;q=0.9,en;q=0.8\",\n",
    "    \"Connection\": \"keep-alive\",\n",
    "    \"Content-Type\": \"application/x-www-form-urlencoded; charset=UTF-8\",\n",
    "    \"Host\": \"pathumthani.moc.go.th\",\n",
    "    \"Origin\": \"https://pathumthani.moc.go.th\",\n",
    "    \"Referer\": \"https://pathumthani.moc.go.th/th/content/category/index/id/114\",\n",
    "    \"Sec-Ch-Ua\": '\"Google Chrome\";v=\"129\", \"Not;A=Brand\";v=\"8\", \"Chromium\";v=\"129\"',\n",
    "    \"Sec-Ch-Ua-Mobile\": \"?0\",\n",
    "    \"Sec-Ch-Ua-Platform\": '\"Windows\"',\n",
    "    \"User-Agent\": \"Mozilla/5.0 (Windows NT 10.0; Win64; x64) AppleWebKit/537.36 (KHTML, like Gecko) Chrome/129.0.0.0 Safari/537.36\",\n",
    "    \"X-Requested-With\": \"XMLHttpRequest\"\n",
    "}\n",
    "\n",
    "response = requests.post(url, headers=headers)\n",
    "response"
   ]
  },
  {
   "cell_type": "code",
   "execution_count": 12,
   "metadata": {},
   "outputs": [
    {
     "name": "stdout",
     "output_type": "stream",
     "text": [
      "Request successful for page index: 1!\n",
      "Link: https://pathumthani.moc.go.th/th/content/category/detail/id/114/iid/68898, Date: วันพฤหัสบดีที่ 26 กันยายน 2567\n",
      "Link: https://pathumthani.moc.go.th/th/content/category/detail/id/114/iid/64989, Date: วันจันทร์ที่ 2 กันยายน 2567\n",
      "Link: https://pathumthani.moc.go.th/th/content/category/detail/id/114/iid/60258, Date: วันพุธที่ 31 กรกฎาคม 2567\n",
      "Link: https://pathumthani.moc.go.th/th/content/category/detail/id/114/iid/55495, Date: วันพุธที่ 3 กรกฎาคม 2567\n",
      "Link: https://pathumthani.moc.go.th/th/content/category/detail/id/114/iid/50014, Date: วันพุธที่ 29 พฤษภาคม 2567\n",
      "Link: https://pathumthani.moc.go.th/th/content/category/detail/id/114/iid/45632, Date: วันอังคารที่ 30 เมษายน 2567\n",
      "Link: https://pathumthani.moc.go.th/th/content/category/detail/id/114/iid/40790, Date: วันพฤหัสบดีที่ 28 มีนาคม 2567\n",
      "Link: https://pathumthani.moc.go.th/th/content/category/detail/id/114/iid/35757, Date: วันพฤหัสบดีที่ 29 กุมภาพันธ์ 2567\n",
      "Link: https://pathumthani.moc.go.th/th/content/category/detail/id/114/iid/31764, Date: วันพุธที่ 31 มกราคม 2567\n",
      "Link: https://pathumthani.moc.go.th/th/content/category/detail/id/114/iid/27729, Date: วันพฤหัสบดีที่ 28 ธันวาคม 2566\n",
      "Request successful for page index: 2!\n",
      "Link: https://pathumthani.moc.go.th/th/content/category/detail/id/114/iid/23768, Date: วันพฤหัสบดีที่ 30 พฤศจิกายน 2566\n",
      "Link: https://pathumthani.moc.go.th/th/content/category/detail/id/114/iid/18846, Date: วันอังคารที่ 31 ตุลาคม 2566\n",
      "Link: https://pathumthani.moc.go.th/th/content/category/detail/id/114/iid/18128, Date: วันพฤหัสบดีที่ 26 ตุลาคม 2566\n",
      "Link: https://pathumthani.moc.go.th/th/content/category/detail/id/114/iid/17939, Date: วันพฤหัสบดีที่ 26 ตุลาคม 2566\n",
      "Link: https://pathumthani.moc.go.th/th/content/category/detail/id/114/iid/17937, Date: วันพฤหัสบดีที่ 26 ตุลาคม 2566\n",
      "Link: https://pathumthani.moc.go.th/th/content/category/detail/id/114/iid/17925, Date: วันพฤหัสบดีที่ 26 ตุลาคม 2566\n",
      "Link: https://pathumthani.moc.go.th/th/content/category/detail/id/114/iid/17917, Date: วันพฤหัสบดีที่ 26 ตุลาคม 2566\n",
      "Link: https://pathumthani.moc.go.th/th/content/category/detail/id/114/iid/17915, Date: วันพฤหัสบดีที่ 26 ตุลาคม 2566\n",
      "Link: https://pathumthani.moc.go.th/th/content/category/detail/id/114/iid/17912, Date: วันพฤหัสบดีที่ 26 ตุลาคม 2566\n",
      "Link: https://pathumthani.moc.go.th/th/content/category/detail/id/114/iid/11606, Date: วันศุกร์ที่ 26 พฤษภาคม 2566\n",
      "Request successful for page index: 3!\n",
      "Link: https://pathumthani.moc.go.th/th/content/category/detail/id/114/iid/11605, Date: วันพุธที่ 3 พฤษภาคม 2566\n",
      "Link: https://pathumthani.moc.go.th/th/content/category/detail/id/114/iid/11604, Date: วันพุธที่ 3 พฤษภาคม 2566\n"
     ]
    }
   ],
   "source": [
    "for page_index in range(1, 4):\n",
    "    data = {\n",
    "        'pageIndex': page_index \n",
    "    }\n",
    "    response = requests.post(url, headers=headers, data=data)\n",
    "\n",
    "    if response.status_code == 200:\n",
    "        print(f\"Request successful for page index: {page_index}!\")\n",
    "        data = response.json()\n",
    "        html_content = data.get('html')\n",
    "        soup = BeautifulSoup(html_content, 'html.parser')\n",
    "        articles = soup.find_all('div', class_='inforow')\n",
    "        for article in articles:\n",
    "            link_tag = article.find('a', href=True)\n",
    "            if link_tag:\n",
    "                link = f\"https://pathumthani.moc.go.th{link_tag['href']}\"\n",
    "            date_tag = article.find('div', class_='image-date')\n",
    "            if date_tag:\n",
    "                date = date_tag.get_text(strip=True)\n",
    "                print(f\"Link: {link}, Date: {date}\")\n",
    "    else:\n",
    "        print(f\"Request failed for page index {page_index} with status code: {response.status_code}\")"
   ]
  }
 ],
 "metadata": {
  "kernelspec": {
   "display_name": "Python 3",
   "language": "python",
   "name": "python3"
  },
  "language_info": {
   "codemirror_mode": {
    "name": "ipython",
    "version": 3
   },
   "file_extension": ".py",
   "mimetype": "text/x-python",
   "name": "python",
   "nbconvert_exporter": "python",
   "pygments_lexer": "ipython3",
   "version": "3.12.7"
  }
 },
 "nbformat": 4,
 "nbformat_minor": 2
}
