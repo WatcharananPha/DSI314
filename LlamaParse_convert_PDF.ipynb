{
  "cells": [
    {
      "cell_type": "code",
      "execution_count": null,
      "metadata": {
        "colab": {
          "base_uri": "https://localhost:8080/"
        },
        "id": "pHovlqd3zWV1",
        "outputId": "52a27b30-4359-4b9c-c08c-0e3fbf008356"
      },
      "outputs": [
        {
          "name": "stdout",
          "output_type": "stream",
          "text": [
            "^C\n"
          ]
        }
      ],
      "source": [
        "!pip install llama-parse\n",
        "!pip install llama-index"
      ]
    },
    {
      "cell_type": "code",
      "execution_count": null,
      "metadata": {
        "id": "e5uAizOEzcVT"
      },
      "outputs": [],
      "source": [
        "import nest_asyncio\n",
        "from llama_parse import LlamaParse\n",
        "import markdown\n",
        "from markdown.extensions.tables import TableExtension\n",
        "import json\n",
        "nest_asyncio.apply()"
      ]
    },
    {
      "cell_type": "code",
      "execution_count": null,
      "metadata": {
        "id": "FDym7oMPzmwL"
      },
      "outputs": [],
      "source": [
        "import os\n",
        "os.environ[\"LLAMA_CLOUD_API_KEY\"] = \"llx-HtEakbkg4rA9lvUNbVpbX3CZwTlqlutZODVxe63h4iDm2QDl\""
      ]
    },
    {
      "cell_type": "code",
      "execution_count": null,
      "metadata": {
        "colab": {
          "base_uri": "https://localhost:8080/"
        },
        "id": "zU6I1QW9ki63",
        "outputId": "75cd97f8-8669-4f74-8549-f48f10ecb60e"
      },
      "outputs": [],
      "source": [
        "markdown_documents = LlamaParse(result_type=\"markdown\").load_data(\"/content/2024092666eba54714ea7d8c7a5003583dbbc54a141050.pdf\")\n",
        "markdown_text = ''.join([doc.text for doc in markdown_documents])\n",
        "html = markdown.markdown(markdown_text, extensions=[TableExtension()])\n",
        "\n",
        "def parse_markdown_to_json(html):\n",
        "    sections = {}\n",
        "    current_section = None\n",
        "\n",
        "    for line in html.splitlines():\n",
        "        if line.startswith(\"<h\"):\n",
        "            current_section = line[line.index(\">\")+1:line.rindex(\"<\")].strip()\n",
        "            sections[current_section] = []\n",
        "        elif line.startswith(\"<table>\"):\n",
        "            sections[current_section].append(\"Table data extracted\")\n",
        "        elif line.strip():\n",
        "            sections[current_section].append(line.strip())\n",
        "\n",
        "    return sections\n",
        "\n",
        "data = parse_markdown_to_json(html)\n",
        "json_output = json.dumps(data, indent=4, ensure_ascii=False)\n",
        "print(json_output)"
      ]
    }
  ],
  "metadata": {
    "colab": {
      "provenance": []
    },
    "kernelspec": {
      "display_name": "Python 3",
      "name": "python3"
    },
    "language_info": {
      "codemirror_mode": {
        "name": "ipython",
        "version": 3
      },
      "file_extension": ".py",
      "mimetype": "text/x-python",
      "name": "python",
      "nbconvert_exporter": "python",
      "pygments_lexer": "ipython3",
      "version": "3.12.7"
    }
  },
  "nbformat": 4,
  "nbformat_minor": 0
}
