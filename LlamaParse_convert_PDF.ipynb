{
  "cells": [
    {
      "cell_type": "code",
      "execution_count": 1,
      "metadata": {
        "colab": {
          "base_uri": "https://localhost:8080/"
        },
        "id": "pHovlqd3zWV1",
        "outputId": "52a27b30-4359-4b9c-c08c-0e3fbf008356"
      },
      "outputs": [
        {
          "name": "stdout",
          "output_type": "stream",
          "text": [
            "Requirement already satisfied: llama-parse in c:\\users\\n\\appdata\\local\\programs\\python\\python312\\lib\\site-packages (0.5.9)\n",
            "Requirement already satisfied: click<9.0.0,>=8.1.7 in c:\\users\\n\\appdata\\local\\programs\\python\\python312\\lib\\site-packages (from llama-parse) (8.1.7)\n",
            "Requirement already satisfied: llama-index-core>=0.11.0 in c:\\users\\n\\appdata\\local\\programs\\python\\python312\\lib\\site-packages (from llama-parse) (0.11.18)\n",
            "Requirement already satisfied: colorama in c:\\users\\n\\appdata\\roaming\\python\\python312\\site-packages (from click<9.0.0,>=8.1.7->llama-parse) (0.4.6)\n",
            "Requirement already satisfied: PyYAML>=6.0.1 in c:\\users\\n\\appdata\\local\\programs\\python\\python312\\lib\\site-packages (from llama-index-core>=0.11.0->llama-parse) (6.0.2)\n",
            "Requirement already satisfied: SQLAlchemy>=1.4.49 in c:\\users\\n\\appdata\\local\\programs\\python\\python312\\lib\\site-packages (from SQLAlchemy[asyncio]>=1.4.49->llama-index-core>=0.11.0->llama-parse) (2.0.36)\n",
            "Requirement already satisfied: aiohttp<4.0.0,>=3.8.6 in c:\\users\\n\\appdata\\local\\programs\\python\\python312\\lib\\site-packages (from llama-index-core>=0.11.0->llama-parse) (3.10.10)\n",
            "Requirement already satisfied: dataclasses-json in c:\\users\\n\\appdata\\local\\programs\\python\\python312\\lib\\site-packages (from llama-index-core>=0.11.0->llama-parse) (0.6.7)\n",
            "Requirement already satisfied: deprecated>=1.2.9.3 in c:\\users\\n\\appdata\\local\\programs\\python\\python312\\lib\\site-packages (from llama-index-core>=0.11.0->llama-parse) (1.2.14)\n",
            "Requirement already satisfied: dirtyjson<2.0.0,>=1.0.8 in c:\\users\\n\\appdata\\local\\programs\\python\\python312\\lib\\site-packages (from llama-index-core>=0.11.0->llama-parse) (1.0.8)\n",
            "Requirement already satisfied: fsspec>=2023.5.0 in c:\\users\\n\\appdata\\local\\programs\\python\\python312\\lib\\site-packages (from llama-index-core>=0.11.0->llama-parse) (2024.9.0)\n",
            "Requirement already satisfied: httpx in c:\\users\\n\\appdata\\local\\programs\\python\\python312\\lib\\site-packages (from llama-index-core>=0.11.0->llama-parse) (0.27.2)\n",
            "Requirement already satisfied: nest-asyncio<2.0.0,>=1.5.8 in c:\\users\\n\\appdata\\roaming\\python\\python312\\site-packages (from llama-index-core>=0.11.0->llama-parse) (1.6.0)\n",
            "Requirement already satisfied: networkx>=3.0 in c:\\users\\n\\appdata\\local\\programs\\python\\python312\\lib\\site-packages (from llama-index-core>=0.11.0->llama-parse) (3.4.1)\n",
            "Requirement already satisfied: nltk>3.8.1 in c:\\users\\n\\appdata\\local\\programs\\python\\python312\\lib\\site-packages (from llama-index-core>=0.11.0->llama-parse) (3.9.1)\n",
            "Requirement already satisfied: numpy<2.0.0 in c:\\users\\n\\appdata\\local\\programs\\python\\python312\\lib\\site-packages (from llama-index-core>=0.11.0->llama-parse) (1.26.4)\n",
            "Requirement already satisfied: pillow>=9.0.0 in c:\\users\\n\\appdata\\local\\programs\\python\\python312\\lib\\site-packages (from llama-index-core>=0.11.0->llama-parse) (11.0.0)\n",
            "Requirement already satisfied: pydantic<3.0.0,>=2.7.0 in c:\\users\\n\\appdata\\local\\programs\\python\\python312\\lib\\site-packages (from llama-index-core>=0.11.0->llama-parse) (2.9.2)\n",
            "Requirement already satisfied: requests>=2.31.0 in c:\\users\\n\\appdata\\local\\programs\\python\\python312\\lib\\site-packages (from llama-index-core>=0.11.0->llama-parse) (2.32.3)\n",
            "Requirement already satisfied: tenacity!=8.4.0,<9.0.0,>=8.2.0 in c:\\users\\n\\appdata\\local\\programs\\python\\python312\\lib\\site-packages (from llama-index-core>=0.11.0->llama-parse) (8.5.0)\n",
            "Requirement already satisfied: tiktoken>=0.3.3 in c:\\users\\n\\appdata\\local\\programs\\python\\python312\\lib\\site-packages (from llama-index-core>=0.11.0->llama-parse) (0.8.0)\n",
            "Requirement already satisfied: tqdm<5.0.0,>=4.66.1 in c:\\users\\n\\appdata\\local\\programs\\python\\python312\\lib\\site-packages (from llama-index-core>=0.11.0->llama-parse) (4.66.5)\n",
            "Requirement already satisfied: typing-extensions>=4.5.0 in c:\\users\\n\\appdata\\local\\programs\\python\\python312\\lib\\site-packages (from llama-index-core>=0.11.0->llama-parse) (4.12.2)\n",
            "Requirement already satisfied: typing-inspect>=0.8.0 in c:\\users\\n\\appdata\\local\\programs\\python\\python312\\lib\\site-packages (from llama-index-core>=0.11.0->llama-parse) (0.9.0)\n",
            "Requirement already satisfied: wrapt in c:\\users\\n\\appdata\\local\\programs\\python\\python312\\lib\\site-packages (from llama-index-core>=0.11.0->llama-parse) (1.16.0)\n",
            "Requirement already satisfied: aiohappyeyeballs>=2.3.0 in c:\\users\\n\\appdata\\local\\programs\\python\\python312\\lib\\site-packages (from aiohttp<4.0.0,>=3.8.6->llama-index-core>=0.11.0->llama-parse) (2.4.3)\n",
            "Requirement already satisfied: aiosignal>=1.1.2 in c:\\users\\n\\appdata\\local\\programs\\python\\python312\\lib\\site-packages (from aiohttp<4.0.0,>=3.8.6->llama-index-core>=0.11.0->llama-parse) (1.3.1)\n",
            "Requirement already satisfied: attrs>=17.3.0 in c:\\users\\n\\appdata\\local\\programs\\python\\python312\\lib\\site-packages (from aiohttp<4.0.0,>=3.8.6->llama-index-core>=0.11.0->llama-parse) (24.2.0)\n",
            "Requirement already satisfied: frozenlist>=1.1.1 in c:\\users\\n\\appdata\\local\\programs\\python\\python312\\lib\\site-packages (from aiohttp<4.0.0,>=3.8.6->llama-index-core>=0.11.0->llama-parse) (1.4.1)\n",
            "Requirement already satisfied: multidict<7.0,>=4.5 in c:\\users\\n\\appdata\\local\\programs\\python\\python312\\lib\\site-packages (from aiohttp<4.0.0,>=3.8.6->llama-index-core>=0.11.0->llama-parse) (6.1.0)\n",
            "Requirement already satisfied: yarl<2.0,>=1.12.0 in c:\\users\\n\\appdata\\local\\programs\\python\\python312\\lib\\site-packages (from aiohttp<4.0.0,>=3.8.6->llama-index-core>=0.11.0->llama-parse) (1.15.4)\n",
            "Requirement already satisfied: joblib in c:\\users\\n\\appdata\\local\\programs\\python\\python312\\lib\\site-packages (from nltk>3.8.1->llama-index-core>=0.11.0->llama-parse) (1.4.2)\n",
            "Requirement already satisfied: regex>=2021.8.3 in c:\\users\\n\\appdata\\local\\programs\\python\\python312\\lib\\site-packages (from nltk>3.8.1->llama-index-core>=0.11.0->llama-parse) (2024.9.11)\n",
            "Requirement already satisfied: annotated-types>=0.6.0 in c:\\users\\n\\appdata\\local\\programs\\python\\python312\\lib\\site-packages (from pydantic<3.0.0,>=2.7.0->llama-index-core>=0.11.0->llama-parse) (0.7.0)\n",
            "Requirement already satisfied: pydantic-core==2.23.4 in c:\\users\\n\\appdata\\local\\programs\\python\\python312\\lib\\site-packages (from pydantic<3.0.0,>=2.7.0->llama-index-core>=0.11.0->llama-parse) (2.23.4)\n",
            "Requirement already satisfied: charset-normalizer<4,>=2 in c:\\users\\n\\appdata\\local\\programs\\python\\python312\\lib\\site-packages (from requests>=2.31.0->llama-index-core>=0.11.0->llama-parse) (3.3.2)\n",
            "Requirement already satisfied: idna<4,>=2.5 in c:\\users\\n\\appdata\\local\\programs\\python\\python312\\lib\\site-packages (from requests>=2.31.0->llama-index-core>=0.11.0->llama-parse) (3.10)\n",
            "Requirement already satisfied: urllib3<3,>=1.21.1 in c:\\users\\n\\appdata\\local\\programs\\python\\python312\\lib\\site-packages (from requests>=2.31.0->llama-index-core>=0.11.0->llama-parse) (2.2.3)\n",
            "Requirement already satisfied: certifi>=2017.4.17 in c:\\users\\n\\appdata\\local\\programs\\python\\python312\\lib\\site-packages (from requests>=2.31.0->llama-index-core>=0.11.0->llama-parse) (2024.8.30)\n",
            "Requirement already satisfied: greenlet!=0.4.17 in c:\\users\\n\\appdata\\local\\programs\\python\\python312\\lib\\site-packages (from SQLAlchemy>=1.4.49->SQLAlchemy[asyncio]>=1.4.49->llama-index-core>=0.11.0->llama-parse) (3.1.1)\n",
            "Requirement already satisfied: mypy-extensions>=0.3.0 in c:\\users\\n\\appdata\\local\\programs\\python\\python312\\lib\\site-packages (from typing-inspect>=0.8.0->llama-index-core>=0.11.0->llama-parse) (1.0.0)\n",
            "Requirement already satisfied: marshmallow<4.0.0,>=3.18.0 in c:\\users\\n\\appdata\\local\\programs\\python\\python312\\lib\\site-packages (from dataclasses-json->llama-index-core>=0.11.0->llama-parse) (3.22.0)\n",
            "Requirement already satisfied: anyio in c:\\users\\n\\appdata\\local\\programs\\python\\python312\\lib\\site-packages (from httpx->llama-index-core>=0.11.0->llama-parse) (4.6.2.post1)\n",
            "Requirement already satisfied: httpcore==1.* in c:\\users\\n\\appdata\\local\\programs\\python\\python312\\lib\\site-packages (from httpx->llama-index-core>=0.11.0->llama-parse) (1.0.6)\n",
            "Requirement already satisfied: sniffio in c:\\users\\n\\appdata\\local\\programs\\python\\python312\\lib\\site-packages (from httpx->llama-index-core>=0.11.0->llama-parse) (1.3.1)\n",
            "Requirement already satisfied: h11<0.15,>=0.13 in c:\\users\\n\\appdata\\local\\programs\\python\\python312\\lib\\site-packages (from httpcore==1.*->httpx->llama-index-core>=0.11.0->llama-parse) (0.14.0)\n",
            "Requirement already satisfied: packaging>=17.0 in c:\\users\\n\\appdata\\roaming\\python\\python312\\site-packages (from marshmallow<4.0.0,>=3.18.0->dataclasses-json->llama-index-core>=0.11.0->llama-parse) (24.1)\n",
            "Requirement already satisfied: propcache>=0.2.0 in c:\\users\\n\\appdata\\local\\programs\\python\\python312\\lib\\site-packages (from yarl<2.0,>=1.12.0->aiohttp<4.0.0,>=3.8.6->llama-index-core>=0.11.0->llama-parse) (0.2.0)\n",
            "Note: you may need to restart the kernel to use updated packages.\n",
            "Requirement already satisfied: llama-index in c:\\users\\n\\appdata\\local\\programs\\python\\python312\\lib\\site-packages (0.11.18)\n",
            "Requirement already satisfied: llama-index-agent-openai<0.4.0,>=0.3.4 in c:\\users\\n\\appdata\\local\\programs\\python\\python312\\lib\\site-packages (from llama-index) (0.3.4)\n",
            "Requirement already satisfied: llama-index-cli<0.4.0,>=0.3.1 in c:\\users\\n\\appdata\\local\\programs\\python\\python312\\lib\\site-packages (from llama-index) (0.3.1)\n",
            "Requirement already satisfied: llama-index-core<0.12.0,>=0.11.18 in c:\\users\\n\\appdata\\local\\programs\\python\\python312\\lib\\site-packages (from llama-index) (0.11.18)\n",
            "Requirement already satisfied: llama-index-embeddings-openai<0.3.0,>=0.2.4 in c:\\users\\n\\appdata\\local\\programs\\python\\python312\\lib\\site-packages (from llama-index) (0.2.5)\n",
            "Requirement already satisfied: llama-index-indices-managed-llama-cloud>=0.3.0 in c:\\users\\n\\appdata\\local\\programs\\python\\python312\\lib\\site-packages (from llama-index) (0.4.0)\n",
            "Requirement already satisfied: llama-index-legacy<0.10.0,>=0.9.48 in c:\\users\\n\\appdata\\local\\programs\\python\\python312\\lib\\site-packages (from llama-index) (0.9.48.post3)\n",
            "Requirement already satisfied: llama-index-llms-openai<0.3.0,>=0.2.10 in c:\\users\\n\\appdata\\local\\programs\\python\\python312\\lib\\site-packages (from llama-index) (0.2.15)\n",
            "Requirement already satisfied: llama-index-multi-modal-llms-openai<0.3.0,>=0.2.0 in c:\\users\\n\\appdata\\local\\programs\\python\\python312\\lib\\site-packages (from llama-index) (0.2.2)\n",
            "Requirement already satisfied: llama-index-program-openai<0.3.0,>=0.2.0 in c:\\users\\n\\appdata\\local\\programs\\python\\python312\\lib\\site-packages (from llama-index) (0.2.0)\n",
            "Requirement already satisfied: llama-index-question-gen-openai<0.3.0,>=0.2.0 in c:\\users\\n\\appdata\\local\\programs\\python\\python312\\lib\\site-packages (from llama-index) (0.2.0)\n",
            "Requirement already satisfied: llama-index-readers-file<0.3.0,>=0.2.0 in c:\\users\\n\\appdata\\local\\programs\\python\\python312\\lib\\site-packages (from llama-index) (0.2.2)\n",
            "Requirement already satisfied: llama-index-readers-llama-parse>=0.3.0 in c:\\users\\n\\appdata\\local\\programs\\python\\python312\\lib\\site-packages (from llama-index) (0.3.0)\n",
            "Requirement already satisfied: nltk>3.8.1 in c:\\users\\n\\appdata\\local\\programs\\python\\python312\\lib\\site-packages (from llama-index) (3.9.1)\n",
            "Requirement already satisfied: openai>=1.14.0 in c:\\users\\n\\appdata\\local\\programs\\python\\python312\\lib\\site-packages (from llama-index-agent-openai<0.4.0,>=0.3.4->llama-index) (1.51.2)\n",
            "Requirement already satisfied: PyYAML>=6.0.1 in c:\\users\\n\\appdata\\local\\programs\\python\\python312\\lib\\site-packages (from llama-index-core<0.12.0,>=0.11.18->llama-index) (6.0.2)\n",
            "Requirement already satisfied: SQLAlchemy>=1.4.49 in c:\\users\\n\\appdata\\local\\programs\\python\\python312\\lib\\site-packages (from SQLAlchemy[asyncio]>=1.4.49->llama-index-core<0.12.0,>=0.11.18->llama-index) (2.0.36)\n",
            "Requirement already satisfied: aiohttp<4.0.0,>=3.8.6 in c:\\users\\n\\appdata\\local\\programs\\python\\python312\\lib\\site-packages (from llama-index-core<0.12.0,>=0.11.18->llama-index) (3.10.10)\n",
            "Requirement already satisfied: dataclasses-json in c:\\users\\n\\appdata\\local\\programs\\python\\python312\\lib\\site-packages (from llama-index-core<0.12.0,>=0.11.18->llama-index) (0.6.7)\n",
            "Requirement already satisfied: deprecated>=1.2.9.3 in c:\\users\\n\\appdata\\local\\programs\\python\\python312\\lib\\site-packages (from llama-index-core<0.12.0,>=0.11.18->llama-index) (1.2.14)\n",
            "Requirement already satisfied: dirtyjson<2.0.0,>=1.0.8 in c:\\users\\n\\appdata\\local\\programs\\python\\python312\\lib\\site-packages (from llama-index-core<0.12.0,>=0.11.18->llama-index) (1.0.8)\n",
            "Requirement already satisfied: fsspec>=2023.5.0 in c:\\users\\n\\appdata\\local\\programs\\python\\python312\\lib\\site-packages (from llama-index-core<0.12.0,>=0.11.18->llama-index) (2024.9.0)\n",
            "Requirement already satisfied: httpx in c:\\users\\n\\appdata\\local\\programs\\python\\python312\\lib\\site-packages (from llama-index-core<0.12.0,>=0.11.18->llama-index) (0.27.2)\n",
            "Requirement already satisfied: nest-asyncio<2.0.0,>=1.5.8 in c:\\users\\n\\appdata\\roaming\\python\\python312\\site-packages (from llama-index-core<0.12.0,>=0.11.18->llama-index) (1.6.0)\n",
            "Requirement already satisfied: networkx>=3.0 in c:\\users\\n\\appdata\\local\\programs\\python\\python312\\lib\\site-packages (from llama-index-core<0.12.0,>=0.11.18->llama-index) (3.4.1)\n",
            "Requirement already satisfied: numpy<2.0.0 in c:\\users\\n\\appdata\\local\\programs\\python\\python312\\lib\\site-packages (from llama-index-core<0.12.0,>=0.11.18->llama-index) (1.26.4)\n",
            "Requirement already satisfied: pillow>=9.0.0 in c:\\users\\n\\appdata\\local\\programs\\python\\python312\\lib\\site-packages (from llama-index-core<0.12.0,>=0.11.18->llama-index) (11.0.0)\n",
            "Requirement already satisfied: pydantic<3.0.0,>=2.7.0 in c:\\users\\n\\appdata\\local\\programs\\python\\python312\\lib\\site-packages (from llama-index-core<0.12.0,>=0.11.18->llama-index) (2.9.2)\n",
            "Requirement already satisfied: requests>=2.31.0 in c:\\users\\n\\appdata\\local\\programs\\python\\python312\\lib\\site-packages (from llama-index-core<0.12.0,>=0.11.18->llama-index) (2.32.3)\n",
            "Requirement already satisfied: tenacity!=8.4.0,<9.0.0,>=8.2.0 in c:\\users\\n\\appdata\\local\\programs\\python\\python312\\lib\\site-packages (from llama-index-core<0.12.0,>=0.11.18->llama-index) (8.5.0)\n",
            "Requirement already satisfied: tiktoken>=0.3.3 in c:\\users\\n\\appdata\\local\\programs\\python\\python312\\lib\\site-packages (from llama-index-core<0.12.0,>=0.11.18->llama-index) (0.8.0)\n",
            "Requirement already satisfied: tqdm<5.0.0,>=4.66.1 in c:\\users\\n\\appdata\\local\\programs\\python\\python312\\lib\\site-packages (from llama-index-core<0.12.0,>=0.11.18->llama-index) (4.66.5)\n",
            "Requirement already satisfied: typing-extensions>=4.5.0 in c:\\users\\n\\appdata\\local\\programs\\python\\python312\\lib\\site-packages (from llama-index-core<0.12.0,>=0.11.18->llama-index) (4.12.2)\n",
            "Requirement already satisfied: typing-inspect>=0.8.0 in c:\\users\\n\\appdata\\local\\programs\\python\\python312\\lib\\site-packages (from llama-index-core<0.12.0,>=0.11.18->llama-index) (0.9.0)\n",
            "Requirement already satisfied: wrapt in c:\\users\\n\\appdata\\local\\programs\\python\\python312\\lib\\site-packages (from llama-index-core<0.12.0,>=0.11.18->llama-index) (1.16.0)\n",
            "Requirement already satisfied: llama-cloud>=0.0.11 in c:\\users\\n\\appdata\\local\\programs\\python\\python312\\lib\\site-packages (from llama-index-indices-managed-llama-cloud>=0.3.0->llama-index) (0.1.2)\n",
            "Requirement already satisfied: pandas in c:\\users\\n\\appdata\\local\\programs\\python\\python312\\lib\\site-packages (from llama-index-legacy<0.10.0,>=0.9.48->llama-index) (2.2.3)\n",
            "Requirement already satisfied: beautifulsoup4<5.0.0,>=4.12.3 in c:\\users\\n\\appdata\\local\\programs\\python\\python312\\lib\\site-packages (from llama-index-readers-file<0.3.0,>=0.2.0->llama-index) (4.12.3)\n",
            "Requirement already satisfied: pypdf<5.0.0,>=4.0.1 in c:\\users\\n\\appdata\\local\\programs\\python\\python312\\lib\\site-packages (from llama-index-readers-file<0.3.0,>=0.2.0->llama-index) (4.3.1)\n",
            "Requirement already satisfied: striprtf<0.0.27,>=0.0.26 in c:\\users\\n\\appdata\\local\\programs\\python\\python312\\lib\\site-packages (from llama-index-readers-file<0.3.0,>=0.2.0->llama-index) (0.0.26)\n",
            "Requirement already satisfied: llama-parse>=0.5.0 in c:\\users\\n\\appdata\\local\\programs\\python\\python312\\lib\\site-packages (from llama-index-readers-llama-parse>=0.3.0->llama-index) (0.5.9)\n",
            "Requirement already satisfied: click in c:\\users\\n\\appdata\\local\\programs\\python\\python312\\lib\\site-packages (from nltk>3.8.1->llama-index) (8.1.7)\n",
            "Requirement already satisfied: joblib in c:\\users\\n\\appdata\\local\\programs\\python\\python312\\lib\\site-packages (from nltk>3.8.1->llama-index) (1.4.2)\n",
            "Requirement already satisfied: regex>=2021.8.3 in c:\\users\\n\\appdata\\local\\programs\\python\\python312\\lib\\site-packages (from nltk>3.8.1->llama-index) (2024.9.11)\n",
            "Requirement already satisfied: aiohappyeyeballs>=2.3.0 in c:\\users\\n\\appdata\\local\\programs\\python\\python312\\lib\\site-packages (from aiohttp<4.0.0,>=3.8.6->llama-index-core<0.12.0,>=0.11.18->llama-index) (2.4.3)\n",
            "Requirement already satisfied: aiosignal>=1.1.2 in c:\\users\\n\\appdata\\local\\programs\\python\\python312\\lib\\site-packages (from aiohttp<4.0.0,>=3.8.6->llama-index-core<0.12.0,>=0.11.18->llama-index) (1.3.1)\n",
            "Requirement already satisfied: attrs>=17.3.0 in c:\\users\\n\\appdata\\local\\programs\\python\\python312\\lib\\site-packages (from aiohttp<4.0.0,>=3.8.6->llama-index-core<0.12.0,>=0.11.18->llama-index) (24.2.0)\n",
            "Requirement already satisfied: frozenlist>=1.1.1 in c:\\users\\n\\appdata\\local\\programs\\python\\python312\\lib\\site-packages (from aiohttp<4.0.0,>=3.8.6->llama-index-core<0.12.0,>=0.11.18->llama-index) (1.4.1)\n",
            "Requirement already satisfied: multidict<7.0,>=4.5 in c:\\users\\n\\appdata\\local\\programs\\python\\python312\\lib\\site-packages (from aiohttp<4.0.0,>=3.8.6->llama-index-core<0.12.0,>=0.11.18->llama-index) (6.1.0)\n",
            "Requirement already satisfied: yarl<2.0,>=1.12.0 in c:\\users\\n\\appdata\\local\\programs\\python\\python312\\lib\\site-packages (from aiohttp<4.0.0,>=3.8.6->llama-index-core<0.12.0,>=0.11.18->llama-index) (1.15.4)\n",
            "Requirement already satisfied: soupsieve>1.2 in c:\\users\\n\\appdata\\local\\programs\\python\\python312\\lib\\site-packages (from beautifulsoup4<5.0.0,>=4.12.3->llama-index-readers-file<0.3.0,>=0.2.0->llama-index) (2.6)\n",
            "Requirement already satisfied: anyio in c:\\users\\n\\appdata\\local\\programs\\python\\python312\\lib\\site-packages (from httpx->llama-index-core<0.12.0,>=0.11.18->llama-index) (4.6.2.post1)\n",
            "Requirement already satisfied: certifi in c:\\users\\n\\appdata\\local\\programs\\python\\python312\\lib\\site-packages (from httpx->llama-index-core<0.12.0,>=0.11.18->llama-index) (2024.8.30)\n",
            "Requirement already satisfied: httpcore==1.* in c:\\users\\n\\appdata\\local\\programs\\python\\python312\\lib\\site-packages (from httpx->llama-index-core<0.12.0,>=0.11.18->llama-index) (1.0.6)\n",
            "Requirement already satisfied: idna in c:\\users\\n\\appdata\\local\\programs\\python\\python312\\lib\\site-packages (from httpx->llama-index-core<0.12.0,>=0.11.18->llama-index) (3.10)\n",
            "Requirement already satisfied: sniffio in c:\\users\\n\\appdata\\local\\programs\\python\\python312\\lib\\site-packages (from httpx->llama-index-core<0.12.0,>=0.11.18->llama-index) (1.3.1)\n",
            "Requirement already satisfied: h11<0.15,>=0.13 in c:\\users\\n\\appdata\\local\\programs\\python\\python312\\lib\\site-packages (from httpcore==1.*->httpx->llama-index-core<0.12.0,>=0.11.18->llama-index) (0.14.0)\n",
            "Requirement already satisfied: colorama in c:\\users\\n\\appdata\\roaming\\python\\python312\\site-packages (from click->nltk>3.8.1->llama-index) (0.4.6)\n",
            "Requirement already satisfied: distro<2,>=1.7.0 in c:\\users\\n\\appdata\\local\\programs\\python\\python312\\lib\\site-packages (from openai>=1.14.0->llama-index-agent-openai<0.4.0,>=0.3.4->llama-index) (1.9.0)\n",
            "Requirement already satisfied: jiter<1,>=0.4.0 in c:\\users\\n\\appdata\\local\\programs\\python\\python312\\lib\\site-packages (from openai>=1.14.0->llama-index-agent-openai<0.4.0,>=0.3.4->llama-index) (0.6.1)\n",
            "Requirement already satisfied: annotated-types>=0.6.0 in c:\\users\\n\\appdata\\local\\programs\\python\\python312\\lib\\site-packages (from pydantic<3.0.0,>=2.7.0->llama-index-core<0.12.0,>=0.11.18->llama-index) (0.7.0)\n",
            "Requirement already satisfied: pydantic-core==2.23.4 in c:\\users\\n\\appdata\\local\\programs\\python\\python312\\lib\\site-packages (from pydantic<3.0.0,>=2.7.0->llama-index-core<0.12.0,>=0.11.18->llama-index) (2.23.4)\n",
            "Requirement already satisfied: charset-normalizer<4,>=2 in c:\\users\\n\\appdata\\local\\programs\\python\\python312\\lib\\site-packages (from requests>=2.31.0->llama-index-core<0.12.0,>=0.11.18->llama-index) (3.3.2)\n",
            "Requirement already satisfied: urllib3<3,>=1.21.1 in c:\\users\\n\\appdata\\local\\programs\\python\\python312\\lib\\site-packages (from requests>=2.31.0->llama-index-core<0.12.0,>=0.11.18->llama-index) (2.2.3)\n",
            "Requirement already satisfied: greenlet!=0.4.17 in c:\\users\\n\\appdata\\local\\programs\\python\\python312\\lib\\site-packages (from SQLAlchemy>=1.4.49->SQLAlchemy[asyncio]>=1.4.49->llama-index-core<0.12.0,>=0.11.18->llama-index) (3.1.1)\n",
            "Requirement already satisfied: mypy-extensions>=0.3.0 in c:\\users\\n\\appdata\\local\\programs\\python\\python312\\lib\\site-packages (from typing-inspect>=0.8.0->llama-index-core<0.12.0,>=0.11.18->llama-index) (1.0.0)\n",
            "Requirement already satisfied: marshmallow<4.0.0,>=3.18.0 in c:\\users\\n\\appdata\\local\\programs\\python\\python312\\lib\\site-packages (from dataclasses-json->llama-index-core<0.12.0,>=0.11.18->llama-index) (3.22.0)\n",
            "Requirement already satisfied: python-dateutil>=2.8.2 in c:\\users\\n\\appdata\\roaming\\python\\python312\\site-packages (from pandas->llama-index-legacy<0.10.0,>=0.9.48->llama-index) (2.9.0.post0)\n",
            "Requirement already satisfied: pytz>=2020.1 in c:\\users\\n\\appdata\\local\\programs\\python\\python312\\lib\\site-packages (from pandas->llama-index-legacy<0.10.0,>=0.9.48->llama-index) (2024.2)\n",
            "Requirement already satisfied: tzdata>=2022.7 in c:\\users\\n\\appdata\\local\\programs\\python\\python312\\lib\\site-packages (from pandas->llama-index-legacy<0.10.0,>=0.9.48->llama-index) (2024.2)\n",
            "Requirement already satisfied: packaging>=17.0 in c:\\users\\n\\appdata\\roaming\\python\\python312\\site-packages (from marshmallow<4.0.0,>=3.18.0->dataclasses-json->llama-index-core<0.12.0,>=0.11.18->llama-index) (24.1)\n",
            "Requirement already satisfied: six>=1.5 in c:\\users\\n\\appdata\\roaming\\python\\python312\\site-packages (from python-dateutil>=2.8.2->pandas->llama-index-legacy<0.10.0,>=0.9.48->llama-index) (1.16.0)\n",
            "Requirement already satisfied: propcache>=0.2.0 in c:\\users\\n\\appdata\\local\\programs\\python\\python312\\lib\\site-packages (from yarl<2.0,>=1.12.0->aiohttp<4.0.0,>=3.8.6->llama-index-core<0.12.0,>=0.11.18->llama-index) (0.2.0)\n",
            "Note: you may need to restart the kernel to use updated packages.\n",
            "Requirement already satisfied: markdown in c:\\users\\n\\appdata\\local\\programs\\python\\python312\\lib\\site-packages (3.7)\n"
          ]
        }
      ],
      "source": [
        "%pip install llama-parse\n",
        "%pip install llama-index\n",
        "!pip install markdown"
      ]
    },
    {
      "cell_type": "code",
      "execution_count": 2,
      "metadata": {
        "id": "e5uAizOEzcVT"
      },
      "outputs": [],
      "source": [
        "import nest_asyncio\n",
        "from llama_parse import LlamaParse\n",
        "import markdown\n",
        "from markdown.extensions.tables import TableExtension\n",
        "import json\n",
        "import csv\n",
        "\n",
        "nest_asyncio.apply()"
      ]
    },
    {
      "cell_type": "code",
      "execution_count": 3,
      "metadata": {
        "id": "FDym7oMPzmwL"
      },
      "outputs": [],
      "source": [
        "import os\n",
        "# Using API_Key from this : \n",
        "os.environ[\"LLAMA_CLOUD_API_KEY\"] = \"llx-HtEakbkg4rA9lvUNbVpbX3CZwTlqlutZODVxe63h4iDm2QDl\""
      ]
    },
    {
      "cell_type": "code",
      "execution_count": 9,
      "metadata": {
        "colab": {
          "base_uri": "https://localhost:8080/"
        },
        "id": "zU6I1QW9ki63",
        "outputId": "75cd97f8-8669-4f74-8549-f48f10ecb60e"
      },
      "outputs": [
        {
          "name": "stdout",
          "output_type": "stream",
          "text": [
            "Started parsing the file under job_id 924dff82-1f33-4c38-833c-aa4786f5854e\n"
          ]
        }
      ],
      "source": [
        "markdown_documents = LlamaParse(result_type=\"markdown\").load_data(\"2024092666eba54714ea7d8c7a5003583dbbc54a141050.pdf\")\n",
        "markdown_text = ''.join([doc.text for doc in markdown_documents])\n",
        "\n",
        "html = markdown.markdown(markdown_text, extensions=[TableExtension()])\n",
        "\n",
        "def parse_markdown_to_json(html):\n",
        "    sections = {}\n",
        "    current_section = None\n",
        "    for line in html.splitlines():\n",
        "        if line.startswith(\"<h\"):\n",
        "            current_section = line[line.index(\">\")+1:line.rindex(\"<\")].strip()\n",
        "            sections[current_section] = []\n",
        "        elif line.startswith(\"<table>\"):\n",
        "            sections[current_section].append(\"Table data extracted\")\n",
        "        elif line.strip():\n",
        "            sections[current_section].append(line.strip())\n",
        "\n",
        "    return sections\n",
        "\n",
        "data = parse_markdown_to_json(html)\n",
        "json_output = json.dumps(data, indent=4, ensure_ascii=False)\n",
        "output_json_file = \"markdown_output.json\""
      ]
    },
    {
      "cell_type": "code",
      "execution_count": 10,
      "metadata": {},
      "outputs": [],
      "source": [
        "with open(output_json_file, \"w\", encoding=\"utf-8\") as f:\n",
        "    f.write(json_output)"
      ]
    }
  ],
  "metadata": {
    "colab": {
      "provenance": []
    },
    "kernelspec": {
      "display_name": "Python 3",
      "name": "python3"
    },
    "language_info": {
      "codemirror_mode": {
        "name": "ipython",
        "version": 3
      },
      "file_extension": ".py",
      "mimetype": "text/x-python",
      "name": "python",
      "nbconvert_exporter": "python",
      "pygments_lexer": "ipython3",
      "version": "3.12.7"
    }
  },
  "nbformat": 4,
  "nbformat_minor": 0
}
