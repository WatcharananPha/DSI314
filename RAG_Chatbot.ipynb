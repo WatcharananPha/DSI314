{
 "cells": [
  {
   "cell_type": "code",
   "execution_count": 1,
   "metadata": {},
   "outputs": [],
   "source": [
    "from openai import OpenAI\n",
    "import json\n",
    "\n",
    "client = OpenAI(\n",
    "   api_key='sk-aDn1hpDc32Cm8DGE9lbudSpcVcRusb70qMntDZkEdw0c52YP',\n",
    "   base_url='https://api.opentyphoon.ai/v1'\n",
    ")"
   ]
  },
  {
   "cell_type": "code",
   "execution_count": 3,
   "metadata": {},
   "outputs": [],
   "source": [
    "def load_data(file_path):\n",
    "    with open(file_path, 'r', encoding='utf-8') as file:\n",
    "        data = json.load(file)\n",
    "    return data\n",
    "\n",
    "def generate_response(prompt):\n",
    "    chat_completion = client.chat.completions.create(\n",
    "        model=\"typhoon-v1.5x-70b-instruct\",\n",
    "        messages=[{\"role\": \"user\", \"content\": prompt}]\n",
    "    )\n",
    "    return chat_completion.choices[0].message.content\n",
    "\n",
    "def ask_question(data, question):\n",
    "    prompt = f\"Based on the following information about Pathum Thani development: {data}, answer this question: {question}\"\n",
    "    response = generate_response(prompt)\n",
    "    return response"
   ]
  },
  {
   "cell_type": "code",
   "execution_count": 6,
   "metadata": {},
   "outputs": [
    {
     "name": "stderr",
     "output_type": "stream",
     "text": [
      "<>:2: SyntaxWarning: invalid escape sequence '\\F'\n",
      "<>:2: SyntaxWarning: invalid escape sequence '\\F'\n",
      "C:\\Users\\n\\AppData\\Local\\Temp\\ipykernel_19144\\1724995251.py:2: SyntaxWarning: invalid escape sequence '\\F'\n",
      "  data_path = 'Data\\Factsheets\\markdown_output.json'\n"
     ]
    },
    {
     "name": "stdout",
     "output_type": "stream",
     "text": [
      "Answer: จากข้อมูลที่ให้มา ไม่มีการระบุ \"สินค้าขายดี\" อย่างชัดเจน แต่เราสามารถดูจากตาราง TOP Agricultural Products และ TOP Identity Goods ที่แสดงสินค้าเกษตรสำคัญและสินค้าอัตลักษณ์ของจังหวัดปทุมธานี ได้แก่:\n",
      "\n",
      "1. ผ้าใยบัว\n",
      "2. ผ้าใยกล้วย\n",
      "3. เมี่ยงคำกลีบบัวหลวง\n",
      "4. ข้าวแชรามัญ\n",
      "5. กาละแมรวงข้าว\n",
      "\n",
      "โดยสินค้าที่มีมูลค่าการจำหน่ายสูงสุดคือ \"ผ้าใยบัว\" ด้วยมูลค่า 218.61K\n"
     ]
    }
   ],
   "source": [
    "if __name__ == \"__main__\":\n",
    "    data_path = 'Data\\Factsheets\\markdown_output.json'\n",
    "    pathum_thani_data = load_data(data_path)\n",
    "    question = input(\"Enter your question: \")\n",
    "    answer = ask_question(pathum_thani_data, question)\n",
    "    print(\"Answer:\", answer)"
   ]
  }
 ],
 "metadata": {
  "kernelspec": {
   "display_name": "Python 3",
   "language": "python",
   "name": "python3"
  },
  "language_info": {
   "codemirror_mode": {
    "name": "ipython",
    "version": 3
   },
   "file_extension": ".py",
   "mimetype": "text/x-python",
   "name": "python",
   "nbconvert_exporter": "python",
   "pygments_lexer": "ipython3",
   "version": "3.12.7"
  }
 },
 "nbformat": 4,
 "nbformat_minor": 2
}
